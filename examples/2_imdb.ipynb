{
 "cells": [
  {
   "cell_type": "code",
   "execution_count": 1,
   "metadata": {
    "pycharm": {
     "is_executing": false
    }
   },
   "outputs": [
    {
     "name": "stderr",
     "text": [
      "Using TensorFlow backend.\n"
     ],
     "output_type": "stream"
    }
   ],
   "source": [
    "import sys\n",
    "%matplotlib inline\n",
    "from matplotlib import pyplot as plt\n",
    "import os\n",
    "from keras_text.data import Dataset\n",
    "from keras_text.processing import WordTokenizer, pad_sequences\n",
    "\n",
    "\n",
    "imdb_ds = 'datasets/aclImdb.ds'\n",
    "try:\n",
    "    ds = Dataset.load(imdb_ds)\n",
    "    tokenizer = ds.tokenizer\n",
    "except FileNotFoundError:\n",
    "    imdb_dir = 'data/aclImdb'\n",
    "    if not os.path.exists(imdb_dir):\n",
    "        print('Donload data from http://mng.bz/0tIo and uncompress it in '\n",
    "              '`data` directory.')\n",
    "        sys.exit(1)\n",
    "    train_dir = os.path.join(imdb_dir, 'train')\n",
    "    texts, labels = [], []\n",
    "    for label_type in ['neg', 'pos']:\n",
    "        print(label_type)\n",
    "        dir_name = os.path.join(train_dir, label_type)\n",
    "        for fname in os.listdir(dir_name):\n",
    "            if fname[-4:] == '.txt':\n",
    "                f = open(os.path.join(dir_name, fname))\n",
    "                texts.append(f.read())\n",
    "                f.close()\n",
    "                labels.append(label_type)\n",
    "\n",
    "    tokenizer = WordTokenizer(lang='en_core_web_sm')\n",
    "    tokenizer.build_vocab(texts)\n",
    "    sequences = tokenizer.encode_texts(texts)\n",
    "    data = pad_sequences(sequences, max_tokens=500)\n",
    "    ds = Dataset(data, labels, tokenizer=tokenizer)\n",
    "    os.makedirs(os.path.dirname(imdb_ds), exist_ok=True)\n",
    "    ds.save(imdb_ds)\n",
    "    "
   ]
  },
  {
   "cell_type": "code",
   "execution_count": 2,
   "metadata": {
    "pycharm": {
     "is_executing": false,
     "name": "#%%\n"
    }
   },
   "outputs": [
    {
     "name": "stdout",
     "text": [
      "Num classes: 1\nX_train: (12500, 500)\ny_train: (12500,)\nX_val  : (12500, 500)\nX_val  : (12500,)\n"
     ],
     "output_type": "stream"
    }
   ],
   "source": [
    "X_train, X_val, y_train, y_val = ds.train_val_split(0.5)\n",
    "print(f'Num classes: {ds.num_classes}')\n",
    "print(f'X_train: {X_train.shape}')\n",
    "print(f'y_train: {y_train.shape}')\n",
    "print(f'X_val  : {X_val.shape}')\n",
    "print(f'X_val  : {y_val.shape}')\n"
   ]
  },
  {
   "cell_type": "code",
   "execution_count": 4,
   "metadata": {
    "pycharm": {
     "is_executing": false,
     "name": "#%%\n"
    }
   },
   "outputs": [
    {
     "name": "stderr",
     "text": [
      "INFO:keras_text.embeddings:Building embeddings index...\n",
      "INFO:keras_text.embeddings:Loading embeddings for all words in the corpus\n"
     ],
     "output_type": "stream"
    },
    {
     "name": "stdout",
     "text": [
      "_________________________________________________________________\nLayer (type)                 Output Shape              Param #   \n=================================================================\ninput_1 (InputLayer)         (None, None)              0         \n_________________________________________________________________\nembedding_1 (Embedding)      (None, None, 100)         10136200  \n_________________________________________________________________\nbidirectional_1 (Bidirection (None, None, 100)         60400     \n_________________________________________________________________\nattention_layer_1 (Attention (None, 100)               10200     \n_________________________________________________________________\ndropout_1 (Dropout)          (None, 100)               0         \n_________________________________________________________________\ndense_1 (Dense)              (None, 1)                 101       \n=================================================================\nTotal params: 10,206,901\nTrainable params: 10,206,901\nNon-trainable params: 0\n_________________________________________________________________\n"
     ],
     "output_type": "stream"
    }
   ],
   "source": [
    "from keras_text.models.token_model import TokenModelFactory\n",
    "from keras_text.models.sequence_encoders import YoonKimCNN\n",
    "\n",
    "# RNN models can use `max_tokens=None` to indicate variable length words per mini-batch.\n",
    "factory = TokenModelFactory(\n",
    "    ds.num_classes, \n",
    "    tokenizer.token_index,\n",
    "    max_tokens=None,\n",
    "    embedding_type='glove.6B.100d')\n",
    "word_encoder_model = YoonKimCNN()\n",
    "model = factory.build_model(\n",
    "    token_encoder_model=word_encoder_model, output_activation='sigmoid')\n",
    "model.compile(optimizer='rmsprop', loss='binary_crossentropy', metrics=['acc'])\n",
    "model.summary()\n"
   ]
  },
  {
   "cell_type": "code",
   "execution_count": null,
   "metadata": {
    "pycharm": {
     "is_executing": true
    }
   },
   "outputs": [
    {
     "name": "stdout",
     "text": [
      "Train on 12500 samples, validate on 12500 samples\nEpoch 1/20\n",
      "\r   32/12500 [..............................] - ETA: 22:24 - loss: 0.6931 - acc: 0.5625",
      "\b\b\b\b\b\b\b\b\b\b\b\b\b\b\b\b\b\b\b\b\b\b\b\b\b\b\b\b\b\b\b\b\b\b\b\b\b\b\b\b\b\b\b\b\b\b\b\b\b\b\b\b\b\b\b\b\b\b\b\b\b\b\b\b\b\b\b\b\b\b\b\b\b\b\b\b\b\b\b\b\b\b\b\b\b\b\r   64/12500 [..............................] - ETA: 16:38 - loss: 0.6932 - acc: 0.5312",
      "\b\b\b\b\b\b\b\b\b\b\b\b\b\b\b\b\b\b\b\b\b\b\b\b\b\b\b\b\b\b\b\b\b\b\b\b\b\b\b\b\b\b\b\b\b\b\b\b\b\b\b\b\b\b\b\b\b\b\b\b\b\b\b\b\b\b\b\b\b\b\b\b\b\b\b\b\b\b\b\b\b\b\b\b\b\b\r   96/12500 [..............................] - ETA: 14:40 - loss: 0.6927 - acc: 0.5521",
      "\b\b\b\b\b\b\b\b\b\b\b\b\b\b\b\b\b\b\b\b\b\b\b\b\b\b\b\b\b\b\b\b\b\b\b\b\b\b\b\b\b\b\b\b\b\b\b\b\b\b\b\b\b\b\b\b\b\b\b\b\b\b\b\b\b\b\b\b\b\b\b\b\b\b\b\b\b\b\b\b\b\b\b\b\b\b\r  128/12500 [..............................] - ETA: 13:45 - loss: 0.6930 - acc: 0.5391",
      "\b\b\b\b\b\b\b\b\b\b\b\b\b\b\b\b\b\b\b\b\b\b\b\b\b\b\b\b\b\b\b\b\b\b\b\b\b\b\b\b\b\b\b\b\b\b\b\b\b\b\b\b\b\b\b\b\b\b\b\b\b\b\b\b\b\b\b\b\b\b\b\b\b\b\b\b\b\b\b\b\b\b\b\b\b\b\r  160/12500 [..............................] - ETA: 13:09 - loss: 0.6932 - acc: 0.5188",
      "\b\b\b\b\b\b\b\b\b\b\b\b\b\b\b\b\b\b\b\b\b\b\b\b\b\b\b\b\b\b\b\b\b\b\b\b\b\b\b\b\b\b\b\b\b\b\b\b\b\b\b\b\b\b\b\b\b\b\b\b\b\b\b\b\b\b\b\b\b\b\b\b\b\b\b\b\b\b\b\b\b\b\b\b\b\b\r  192/12500 [..............................] - ETA: 12:45 - loss: 0.6930 - acc: 0.5208",
      "\b\b\b\b\b\b\b\b\b\b\b\b\b\b\b\b\b\b\b\b\b\b\b\b\b\b\b\b\b\b\b\b\b\b\b\b\b\b\b\b\b\b\b\b\b\b\b\b\b\b\b\b\b\b\b\b\b\b\b\b\b\b\b\b\b\b\b\b\b\b\b\b\b\b\b\b\b\b\b\b\b\b\b\b\b\b\r  224/12500 [..............................] - ETA: 12:28 - loss: 0.6929 - acc: 0.5268",
      "\b\b\b\b\b\b\b\b\b\b\b\b\b\b\b\b\b\b\b\b\b\b\b\b\b\b\b\b\b\b\b\b\b\b\b\b\b\b\b\b\b\b\b\b\b\b\b\b\b\b\b\b\b\b\b\b\b\b\b\b\b\b\b\b\b\b\b\b\b\b\b\b\b\b\b\b\b\b\b\b\b\b\b\b\b\b\r  256/12500 [..............................] - ETA: 12:16 - loss: 0.6935 - acc: 0.5117",
      "\b\b\b\b\b\b\b\b\b\b\b\b\b\b\b\b\b\b\b\b\b\b\b\b\b\b\b\b\b\b\b\b\b\b\b\b\b\b\b\b\b\b\b\b\b\b\b\b\b\b\b\b\b\b\b\b\b\b\b\b\b\b\b\b\b\b\b\b\b\b\b\b\b\b\b\b\b\b\b\b\b\b\b\b\b\b\r  288/12500 [..............................] - ETA: 12:05 - loss: 0.6935 - acc: 0.5139"
     ],
     "output_type": "stream"
    }
   ],
   "source": [
    "history = model.fit(\n",
    "    X_train, y_train, validation_data=(X_val, y_val), epochs=20, batch_size=32)\n"
   ]
  },
  {
   "cell_type": "code",
   "execution_count": 5,
   "metadata": {
    "pycharm": {
     "is_executing": false
    }
   },
   "outputs": [
    {
     "data": {
      "text/plain": "<Figure size 432x288 with 1 Axes>",
      "image/png": "[encoded data removed]"
     },
     "metadata": {
      "needs_background": "light"
     },
     "output_type": "display_data"
    }
   ],
   "source": [
    "import pandas as pd\n",
    "\n",
    "hist = pd.DataFrame(history.history)\n",
    "hist.plot()\n",
    "plt.show()"
   ]
  }
 ],
 "metadata": {
  "hide_input": false,
  "kernelspec": {
   "display_name": "Python 3",
   "language": "python",
   "name": "python3"
  },
  "language_info": {
   "codemirror_mode": {
    "name": "ipython",
    "version": 3
   },
   "file_extension": ".py",
   "mimetype": "text/x-python",
   "name": "python",
   "nbconvert_exporter": "python",
   "pygments_lexer": "ipython3",
   "version": "3.6.7"
  },
  "latex_envs": {
   "LaTeX_envs_menu_present": true,
   "autoclose": false,
   "autocomplete": true,
   "bibliofile": "biblio.bib",
   "cite_by": "apalike",
   "current_citInitial": 1,
   "eqLabelWithNumbers": true,
   "eqNumInitial": 1,
   "hotkeys": {
    "equation": "Ctrl-E",
    "itemize": "Ctrl-I"
   },
   "labels_anchors": false,
   "latex_user_defs": false,
   "report_style_numbering": false,
   "user_envs_cfg": false
  },
  "pycharm": {
   "stem_cell": {
    "cell_type": "raw",
    "source": [],
    "metadata": {
     "collapsed": false
    }
   }
  }
 },
 "nbformat": 4,
 "nbformat_minor": 1
}